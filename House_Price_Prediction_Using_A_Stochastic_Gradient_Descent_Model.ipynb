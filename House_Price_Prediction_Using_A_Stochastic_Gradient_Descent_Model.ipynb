{
 "cells": [
  {
   "cell_type": "markdown",
   "id": "e1eb973f",
   "metadata": {},
   "source": [
    "# Project Title\n",
    "House Price Prediction Using A Stochastic Gradient Descent model"
   ]
  },
  {
   "cell_type": "markdown",
   "id": "c7cbdfe6",
   "metadata": {},
   "source": [
    "# Data Preparation\n",
    "## 1.1 Read Data\n",
    "### Import necessary libraries and load data"
   ]
  },
  {
   "cell_type": "code",
   "execution_count": 1,
   "id": "99bd8980",
   "metadata": {},
   "outputs": [],
   "source": [
    "# Import necessary libraries\n",
    "# Data Manipulation and Analysis\n",
    "import numpy as np\n",
    "import pandas as pd\n",
    "\n",
    "# Data Visualization\n",
    "import matplotlib.pyplot as plt\n",
    "\n",
    "# Data Preprocessing\n",
    "from sklearn.model_selection import train_test_split\n",
    "from sklearn.impute import SimpleImputer\n",
    "from sklearn.compose import ColumnTransformer\n",
    "from sklearn.preprocessing import OneHotEncoder\n",
    "from sklearn.pipeline import Pipeline\n",
    "from sklearn.preprocessing import StandardScaler\n",
    "\n",
    "# Model Training and Evaluation\n",
    "from sklearn.linear_model import SGDRegressor\n",
    "from sklearn.model_selection import cross_val_score, RandomizedSearchCV\n",
    "from scipy.stats import loguniform\n",
    "from sklearn.metrics import mean_squared_error\n",
    "\n",
    "# Model Persistence\n",
    "import pickle\n",
    "\n",
    "# Other\n",
    "import warnings\n",
    "warnings.filterwarnings('ignore')"
   ]
  },
  {
   "cell_type": "code",
   "execution_count": 2,
   "id": "56c6891a",
   "metadata": {},
   "outputs": [
    {
     "data": {
      "text/html": [
       "<div>\n",
       "<style scoped>\n",
       "    .dataframe tbody tr th:only-of-type {\n",
       "        vertical-align: middle;\n",
       "    }\n",
       "\n",
       "    .dataframe tbody tr th {\n",
       "        vertical-align: top;\n",
       "    }\n",
       "\n",
       "    .dataframe thead th {\n",
       "        text-align: right;\n",
       "    }\n",
       "</style>\n",
       "<table border=\"1\" class=\"dataframe\">\n",
       "  <thead>\n",
       "    <tr style=\"text-align: right;\">\n",
       "      <th></th>\n",
       "      <th>longitude</th>\n",
       "      <th>latitude</th>\n",
       "      <th>housing_median_age</th>\n",
       "      <th>total_rooms</th>\n",
       "      <th>total_bedrooms</th>\n",
       "      <th>population</th>\n",
       "      <th>households</th>\n",
       "      <th>median_income</th>\n",
       "      <th>median_house_value</th>\n",
       "      <th>ocean_proximity</th>\n",
       "    </tr>\n",
       "  </thead>\n",
       "  <tbody>\n",
       "    <tr>\n",
       "      <th>0</th>\n",
       "      <td>-122.23</td>\n",
       "      <td>37.88</td>\n",
       "      <td>41.0</td>\n",
       "      <td>880.0</td>\n",
       "      <td>129.0</td>\n",
       "      <td>322.0</td>\n",
       "      <td>126.0</td>\n",
       "      <td>8.3252</td>\n",
       "      <td>452600.0</td>\n",
       "      <td>NEAR BAY</td>\n",
       "    </tr>\n",
       "    <tr>\n",
       "      <th>1</th>\n",
       "      <td>-122.22</td>\n",
       "      <td>37.86</td>\n",
       "      <td>21.0</td>\n",
       "      <td>7099.0</td>\n",
       "      <td>1106.0</td>\n",
       "      <td>2401.0</td>\n",
       "      <td>1138.0</td>\n",
       "      <td>8.3014</td>\n",
       "      <td>358500.0</td>\n",
       "      <td>NEAR BAY</td>\n",
       "    </tr>\n",
       "    <tr>\n",
       "      <th>2</th>\n",
       "      <td>-122.24</td>\n",
       "      <td>37.85</td>\n",
       "      <td>52.0</td>\n",
       "      <td>1467.0</td>\n",
       "      <td>190.0</td>\n",
       "      <td>496.0</td>\n",
       "      <td>177.0</td>\n",
       "      <td>7.2574</td>\n",
       "      <td>352100.0</td>\n",
       "      <td>NEAR BAY</td>\n",
       "    </tr>\n",
       "    <tr>\n",
       "      <th>3</th>\n",
       "      <td>-122.25</td>\n",
       "      <td>37.85</td>\n",
       "      <td>52.0</td>\n",
       "      <td>1274.0</td>\n",
       "      <td>235.0</td>\n",
       "      <td>558.0</td>\n",
       "      <td>219.0</td>\n",
       "      <td>5.6431</td>\n",
       "      <td>341300.0</td>\n",
       "      <td>NEAR BAY</td>\n",
       "    </tr>\n",
       "    <tr>\n",
       "      <th>4</th>\n",
       "      <td>-122.25</td>\n",
       "      <td>37.85</td>\n",
       "      <td>52.0</td>\n",
       "      <td>1627.0</td>\n",
       "      <td>280.0</td>\n",
       "      <td>565.0</td>\n",
       "      <td>259.0</td>\n",
       "      <td>3.8462</td>\n",
       "      <td>342200.0</td>\n",
       "      <td>NEAR BAY</td>\n",
       "    </tr>\n",
       "  </tbody>\n",
       "</table>\n",
       "</div>"
      ],
      "text/plain": [
       "   longitude  latitude  housing_median_age  total_rooms  total_bedrooms  \\\n",
       "0    -122.23     37.88                41.0        880.0           129.0   \n",
       "1    -122.22     37.86                21.0       7099.0          1106.0   \n",
       "2    -122.24     37.85                52.0       1467.0           190.0   \n",
       "3    -122.25     37.85                52.0       1274.0           235.0   \n",
       "4    -122.25     37.85                52.0       1627.0           280.0   \n",
       "\n",
       "   population  households  median_income  median_house_value ocean_proximity  \n",
       "0       322.0       126.0         8.3252            452600.0        NEAR BAY  \n",
       "1      2401.0      1138.0         8.3014            358500.0        NEAR BAY  \n",
       "2       496.0       177.0         7.2574            352100.0        NEAR BAY  \n",
       "3       558.0       219.0         5.6431            341300.0        NEAR BAY  \n",
       "4       565.0       259.0         3.8462            342200.0        NEAR BAY  "
      ]
     },
     "execution_count": 2,
     "metadata": {},
     "output_type": "execute_result"
    }
   ],
   "source": [
    "# Load the data\n",
    "housing = pd.read_csv('housing.csv')\n",
    "\n",
    "# Display the first 5 rows of the data\n",
    "housing.head()"
   ]
  },
  {
   "cell_type": "markdown",
   "id": "99404754",
   "metadata": {},
   "source": [
    "# Split data into training and testing sets"
   ]
  },
  {
   "cell_type": "code",
   "execution_count": 3,
   "id": "e9e66f10",
   "metadata": {},
   "outputs": [],
   "source": [
    "#Spliting dataset into training set and testing set\n",
    "train, test = train_test_split(housing, test_size = 0.2, random_state = 42)"
   ]
  },
  {
   "cell_type": "code",
   "execution_count": 4,
   "id": "37105de8",
   "metadata": {},
   "outputs": [
    {
     "data": {
      "text/plain": [
       "((16512, 10), (4128, 10))"
      ]
     },
     "execution_count": 4,
     "metadata": {},
     "output_type": "execute_result"
    }
   ],
   "source": [
    "# Check the size of the training and test sets with the shape() function:\n",
    "train.shape, test.shape"
   ]
  },
  {
   "cell_type": "markdown",
   "id": "332ac3e8",
   "metadata": {},
   "source": [
    "The training set has 16512 rows and 10 features (or 80% of the whole dataset) and test set has 4128 rows and also 10 features (or 20% of the whole dataset)."
   ]
  },
  {
   "cell_type": "markdown",
   "id": "bf1a9fd9",
   "metadata": {},
   "source": [
    "## 1.2 Data Cleaning:"
   ]
  },
  {
   "cell_type": "code",
   "execution_count": 5,
   "id": "87d2846a",
   "metadata": {},
   "outputs": [
    {
     "data": {
      "text/plain": [
       "longitude               0\n",
       "latitude                0\n",
       "housing_median_age      0\n",
       "total_rooms             0\n",
       "total_bedrooms        207\n",
       "population              0\n",
       "households              0\n",
       "median_income           0\n",
       "median_house_value      0\n",
       "ocean_proximity         0\n",
       "dtype: int64"
      ]
     },
     "execution_count": 5,
     "metadata": {},
     "output_type": "execute_result"
    }
   ],
   "source": [
    "# Check for missing data/values\n",
    "housing.isnull().sum()"
   ]
  },
  {
   "cell_type": "code",
   "execution_count": 6,
   "id": "3e587c30",
   "metadata": {},
   "outputs": [
    {
     "name": "stdout",
     "output_type": "stream",
     "text": [
      "<class 'pandas.core.frame.DataFrame'>\n",
      "RangeIndex: 20640 entries, 0 to 20639\n",
      "Data columns (total 10 columns):\n",
      " #   Column              Non-Null Count  Dtype  \n",
      "---  ------              --------------  -----  \n",
      " 0   longitude           20640 non-null  float64\n",
      " 1   latitude            20640 non-null  float64\n",
      " 2   housing_median_age  20640 non-null  float64\n",
      " 3   total_rooms         20640 non-null  float64\n",
      " 4   total_bedrooms      20433 non-null  float64\n",
      " 5   population          20640 non-null  float64\n",
      " 6   households          20640 non-null  float64\n",
      " 7   median_income       20640 non-null  float64\n",
      " 8   median_house_value  20640 non-null  float64\n",
      " 9   ocean_proximity     20640 non-null  object \n",
      "dtypes: float64(9), object(1)\n",
      "memory usage: 1.6+ MB\n"
     ]
    }
   ],
   "source": [
    "# Column information of the dataset\n",
    "housing.info()"
   ]
  },
  {
   "cell_type": "code",
   "execution_count": 7,
   "id": "3c0a146d",
   "metadata": {},
   "outputs": [
    {
     "data": {
      "text/plain": [
       "<1H OCEAN     9136\n",
       "INLAND        6551\n",
       "NEAR OCEAN    2658\n",
       "NEAR BAY      2290\n",
       "ISLAND           5\n",
       "Name: ocean_proximity, dtype: int64"
      ]
     },
     "execution_count": 7,
     "metadata": {},
     "output_type": "execute_result"
    }
   ],
   "source": [
    "housing['ocean_proximity'].value_counts()"
   ]
  },
  {
   "cell_type": "markdown",
   "id": "debe96b3",
   "metadata": {},
   "source": [
    "The ocean_proximity column does not have numerical values, instead it has text attributes. Therefore, we create a copy of the data without the the column."
   ]
  },
  {
   "cell_type": "code",
   "execution_count": 8,
   "id": "2e5f69b5",
   "metadata": {
    "scrolled": true
   },
   "outputs": [
    {
     "name": "stdout",
     "output_type": "stream",
     "text": [
      "<class 'pandas.core.frame.DataFrame'>\n",
      "Int64Index: 16512 entries, 14196 to 15795\n",
      "Data columns (total 9 columns):\n",
      " #   Column              Non-Null Count  Dtype  \n",
      "---  ------              --------------  -----  \n",
      " 0   longitude           16512 non-null  float64\n",
      " 1   latitude            16512 non-null  float64\n",
      " 2   housing_median_age  16512 non-null  float64\n",
      " 3   total_rooms         16512 non-null  float64\n",
      " 4   total_bedrooms      16512 non-null  float64\n",
      " 5   population          16512 non-null  float64\n",
      " 6   households          16512 non-null  float64\n",
      " 7   median_income       16512 non-null  float64\n",
      " 8   median_house_value  16512 non-null  float64\n",
      "dtypes: float64(9)\n",
      "memory usage: 1.3 MB\n"
     ]
    }
   ],
   "source": [
    "# Use the SimpleImputer method to impute in the missing values in the total_bedrooms columns with the median value in the column\n",
    "imputer = SimpleImputer(strategy=\"median\")\n",
    "\n",
    "# Create a copy of the data without the text attribute ocean_proximity\n",
    "train_num = train.drop('ocean_proximity', axis=1)\n",
    "train_num.info()"
   ]
  },
  {
   "cell_type": "markdown",
   "id": "06021a6c",
   "metadata": {},
   "source": [
    "The ocean_proximity column has been dropped."
   ]
  },
  {
   "cell_type": "code",
   "execution_count": 9,
   "id": "46f28b9b",
   "metadata": {},
   "outputs": [
    {
     "data": {
      "text/plain": [
       "SimpleImputer(strategy='median')"
      ]
     },
     "execution_count": 9,
     "metadata": {},
     "output_type": "execute_result"
    }
   ],
   "source": [
    "# fit the imputer instance to the training data using the fit() method\n",
    "imputer.fit(train_num)"
   ]
  },
  {
   "cell_type": "code",
   "execution_count": 10,
   "id": "f47a793c",
   "metadata": {},
   "outputs": [
    {
     "data": {
      "text/plain": [
       "array([-1.1851e+02,  3.4260e+01,  2.9000e+01,  2.1290e+03,  4.3700e+02,\n",
       "        1.1670e+03,  4.1000e+02,  3.5458e+00,  1.7985e+05])"
      ]
     },
     "execution_count": 10,
     "metadata": {},
     "output_type": "execute_result"
    }
   ],
   "source": [
    "imputer.statistics_"
   ]
  },
  {
   "cell_type": "code",
   "execution_count": 11,
   "id": "8d3cf037",
   "metadata": {},
   "outputs": [
    {
     "data": {
      "text/plain": [
       "array([-1.1851e+02,  3.4260e+01,  2.9000e+01,  2.1290e+03,  4.3700e+02,\n",
       "        1.1670e+03,  4.1000e+02,  3.5458e+00,  1.7985e+05])"
      ]
     },
     "execution_count": 11,
     "metadata": {},
     "output_type": "execute_result"
    }
   ],
   "source": [
    "# Validate the mean to confirm if the imputer has correctly calculated the median using Python's .median() function\n",
    "train_num.median().values"
   ]
  },
  {
   "cell_type": "code",
   "execution_count": 12,
   "id": "9dc0373c",
   "metadata": {},
   "outputs": [
    {
     "data": {
      "text/plain": [
       "array([[-1.1703e+02,  3.2710e+01,  3.3000e+01, ...,  6.2300e+02,\n",
       "         3.2596e+00,  1.0300e+05],\n",
       "       [-1.1816e+02,  3.3770e+01,  4.9000e+01, ...,  7.5600e+02,\n",
       "         3.8125e+00,  3.8210e+05],\n",
       "       [-1.2048e+02,  3.4660e+01,  4.0000e+00, ...,  3.3600e+02,\n",
       "         4.1563e+00,  1.7260e+05],\n",
       "       ...,\n",
       "       [-1.1838e+02,  3.4030e+01,  3.6000e+01, ...,  5.2700e+02,\n",
       "         2.9344e+00,  2.2210e+05],\n",
       "       [-1.2196e+02,  3.7580e+01,  1.5000e+01, ...,  5.5900e+02,\n",
       "         5.7192e+00,  2.8350e+05],\n",
       "       [-1.2242e+02,  3.7770e+01,  5.2000e+01, ...,  1.2420e+03,\n",
       "         2.5755e+00,  3.2500e+05]])"
      ]
     },
     "execution_count": 12,
     "metadata": {},
     "output_type": "execute_result"
    }
   ],
   "source": [
    "# Use the train-data imputer to transform the train data set by replacing the missing values by the learned values.\n",
    "X = imputer.transform(train_num)\n",
    "X"
   ]
  },
  {
   "cell_type": "markdown",
   "id": "31336b52",
   "metadata": {},
   "source": [
    "Output is an Numpy array. The array should be converted into a Pandas DataFrame"
   ]
  },
  {
   "cell_type": "code",
   "execution_count": 13,
   "id": "ef30889c",
   "metadata": {},
   "outputs": [
    {
     "data": {
      "text/html": [
       "<div>\n",
       "<style scoped>\n",
       "    .dataframe tbody tr th:only-of-type {\n",
       "        vertical-align: middle;\n",
       "    }\n",
       "\n",
       "    .dataframe tbody tr th {\n",
       "        vertical-align: top;\n",
       "    }\n",
       "\n",
       "    .dataframe thead th {\n",
       "        text-align: right;\n",
       "    }\n",
       "</style>\n",
       "<table border=\"1\" class=\"dataframe\">\n",
       "  <thead>\n",
       "    <tr style=\"text-align: right;\">\n",
       "      <th></th>\n",
       "      <th>longitude</th>\n",
       "      <th>latitude</th>\n",
       "      <th>housing_median_age</th>\n",
       "      <th>total_rooms</th>\n",
       "      <th>total_bedrooms</th>\n",
       "      <th>population</th>\n",
       "      <th>households</th>\n",
       "      <th>median_income</th>\n",
       "      <th>median_house_value</th>\n",
       "    </tr>\n",
       "  </thead>\n",
       "  <tbody>\n",
       "    <tr>\n",
       "      <th>14196</th>\n",
       "      <td>-117.03</td>\n",
       "      <td>32.71</td>\n",
       "      <td>33.0</td>\n",
       "      <td>3126.0</td>\n",
       "      <td>627.0</td>\n",
       "      <td>2300.0</td>\n",
       "      <td>623.0</td>\n",
       "      <td>3.2596</td>\n",
       "      <td>103000.0</td>\n",
       "    </tr>\n",
       "    <tr>\n",
       "      <th>8267</th>\n",
       "      <td>-118.16</td>\n",
       "      <td>33.77</td>\n",
       "      <td>49.0</td>\n",
       "      <td>3382.0</td>\n",
       "      <td>787.0</td>\n",
       "      <td>1314.0</td>\n",
       "      <td>756.0</td>\n",
       "      <td>3.8125</td>\n",
       "      <td>382100.0</td>\n",
       "    </tr>\n",
       "    <tr>\n",
       "      <th>17445</th>\n",
       "      <td>-120.48</td>\n",
       "      <td>34.66</td>\n",
       "      <td>4.0</td>\n",
       "      <td>1897.0</td>\n",
       "      <td>331.0</td>\n",
       "      <td>915.0</td>\n",
       "      <td>336.0</td>\n",
       "      <td>4.1563</td>\n",
       "      <td>172600.0</td>\n",
       "    </tr>\n",
       "    <tr>\n",
       "      <th>14265</th>\n",
       "      <td>-117.11</td>\n",
       "      <td>32.69</td>\n",
       "      <td>36.0</td>\n",
       "      <td>1421.0</td>\n",
       "      <td>367.0</td>\n",
       "      <td>1418.0</td>\n",
       "      <td>355.0</td>\n",
       "      <td>1.9425</td>\n",
       "      <td>93400.0</td>\n",
       "    </tr>\n",
       "    <tr>\n",
       "      <th>2271</th>\n",
       "      <td>-119.80</td>\n",
       "      <td>36.78</td>\n",
       "      <td>43.0</td>\n",
       "      <td>2382.0</td>\n",
       "      <td>431.0</td>\n",
       "      <td>874.0</td>\n",
       "      <td>380.0</td>\n",
       "      <td>3.5542</td>\n",
       "      <td>96500.0</td>\n",
       "    </tr>\n",
       "  </tbody>\n",
       "</table>\n",
       "</div>"
      ],
      "text/plain": [
       "       longitude  latitude  housing_median_age  total_rooms  total_bedrooms  \\\n",
       "14196    -117.03     32.71                33.0       3126.0           627.0   \n",
       "8267     -118.16     33.77                49.0       3382.0           787.0   \n",
       "17445    -120.48     34.66                 4.0       1897.0           331.0   \n",
       "14265    -117.11     32.69                36.0       1421.0           367.0   \n",
       "2271     -119.80     36.78                43.0       2382.0           431.0   \n",
       "\n",
       "       population  households  median_income  median_house_value  \n",
       "14196      2300.0       623.0         3.2596            103000.0  \n",
       "8267       1314.0       756.0         3.8125            382100.0  \n",
       "17445       915.0       336.0         4.1563            172600.0  \n",
       "14265      1418.0       355.0         1.9425             93400.0  \n",
       "2271        874.0       380.0         3.5542             96500.0  "
      ]
     },
     "execution_count": 13,
     "metadata": {},
     "output_type": "execute_result"
    }
   ],
   "source": [
    "# Converting the numpy array to a pandas dataframe\n",
    "train_tr = pd.DataFrame(X, columns=train_num.columns, index=train.index)\n",
    "train_tr.head()"
   ]
  },
  {
   "cell_type": "code",
   "execution_count": 14,
   "id": "b1eec126",
   "metadata": {},
   "outputs": [
    {
     "name": "stdout",
     "output_type": "stream",
     "text": [
      "<class 'pandas.core.frame.DataFrame'>\n",
      "Int64Index: 4128 entries, 20046 to 3665\n",
      "Data columns (total 9 columns):\n",
      " #   Column              Non-Null Count  Dtype  \n",
      "---  ------              --------------  -----  \n",
      " 0   longitude           4128 non-null   float64\n",
      " 1   latitude            4128 non-null   float64\n",
      " 2   housing_median_age  4128 non-null   float64\n",
      " 3   total_rooms         4128 non-null   float64\n",
      " 4   total_bedrooms      3921 non-null   float64\n",
      " 5   population          4128 non-null   float64\n",
      " 6   households          4128 non-null   float64\n",
      " 7   median_income       4128 non-null   float64\n",
      " 8   median_house_value  4128 non-null   float64\n",
      "dtypes: float64(9)\n",
      "memory usage: 322.5 KB\n"
     ]
    }
   ],
   "source": [
    "# Use the SimpleImputer method to impute in the missing values in the total_bedrooms columns with the median value in the column\n",
    "imputer = SimpleImputer(strategy=\"median\")\n",
    "\n",
    "# Create a copy of the data without the text attribute ocean_proximity\n",
    "test_num = test.drop('ocean_proximity', axis=1)\n",
    "test_num.info()"
   ]
  },
  {
   "cell_type": "code",
   "execution_count": 15,
   "id": "b61ffbf0",
   "metadata": {},
   "outputs": [
    {
     "data": {
      "text/plain": [
       "SimpleImputer(strategy='median')"
      ]
     },
     "execution_count": 15,
     "metadata": {},
     "output_type": "execute_result"
    }
   ],
   "source": [
    "# fit the imputer instance to the training data using the fit() method\n",
    "imputer.fit(test_num)"
   ]
  },
  {
   "cell_type": "code",
   "execution_count": 16,
   "id": "c61dca91",
   "metadata": {},
   "outputs": [
    {
     "data": {
      "text/plain": [
       "array([-1.1847e+02,  3.4230e+01,  2.9000e+01,  2.1100e+03,  4.2800e+02,\n",
       "        1.1600e+03,  4.0600e+02,  3.5000e+00,  1.7865e+05])"
      ]
     },
     "execution_count": 16,
     "metadata": {},
     "output_type": "execute_result"
    }
   ],
   "source": [
    "imputer.statistics_"
   ]
  },
  {
   "cell_type": "code",
   "execution_count": 17,
   "id": "d0a25487",
   "metadata": {},
   "outputs": [
    {
     "data": {
      "text/plain": [
       "array([-1.1847e+02,  3.4230e+01,  2.9000e+01,  2.1100e+03,  4.2800e+02,\n",
       "        1.1600e+03,  4.0600e+02,  3.5000e+00,  1.7865e+05])"
      ]
     },
     "execution_count": 17,
     "metadata": {},
     "output_type": "execute_result"
    }
   ],
   "source": [
    "# Validate the mean to confirm if the imputer has correctly calculated the median using Python's .median() function\n",
    "test_num.median().values"
   ]
  },
  {
   "cell_type": "code",
   "execution_count": 18,
   "id": "eb53b1fe",
   "metadata": {},
   "outputs": [
    {
     "data": {
      "text/plain": [
       "array([[-1.19010e+02,  3.60600e+01,  2.50000e+01, ...,  3.59000e+02,\n",
       "         1.68120e+00,  4.77000e+04],\n",
       "       [-1.19460e+02,  3.51400e+01,  3.00000e+01, ...,  5.84000e+02,\n",
       "         2.53130e+00,  4.58000e+04],\n",
       "       [-1.22440e+02,  3.78000e+01,  5.20000e+01, ...,  9.63000e+02,\n",
       "         3.48010e+00,  5.00001e+05],\n",
       "       ...,\n",
       "       [-1.22050e+02,  3.73100e+01,  2.50000e+01, ...,  5.68000e+02,\n",
       "         9.22980e+00,  5.00001e+05],\n",
       "       [-1.19760e+02,  3.67700e+01,  3.60000e+01, ...,  4.74000e+02,\n",
       "         2.78500e+00,  7.23000e+04],\n",
       "       [-1.18370e+02,  3.42200e+01,  1.70000e+01, ...,  4.48000e+02,\n",
       "         3.55210e+00,  1.51500e+05]])"
      ]
     },
     "execution_count": 18,
     "metadata": {},
     "output_type": "execute_result"
    }
   ],
   "source": [
    "# Use the test-data imputer to transform the test data set by replacing the missing values by the learned values.\n",
    "y = imputer.transform(test_num)\n",
    "y"
   ]
  },
  {
   "cell_type": "markdown",
   "id": "5a587bb6",
   "metadata": {},
   "source": [
    "Output is an Numpy array. The array should be converted into a Pandas DataFrame"
   ]
  },
  {
   "cell_type": "code",
   "execution_count": 19,
   "id": "aa637f39",
   "metadata": {},
   "outputs": [
    {
     "data": {
      "text/html": [
       "<div>\n",
       "<style scoped>\n",
       "    .dataframe tbody tr th:only-of-type {\n",
       "        vertical-align: middle;\n",
       "    }\n",
       "\n",
       "    .dataframe tbody tr th {\n",
       "        vertical-align: top;\n",
       "    }\n",
       "\n",
       "    .dataframe thead th {\n",
       "        text-align: right;\n",
       "    }\n",
       "</style>\n",
       "<table border=\"1\" class=\"dataframe\">\n",
       "  <thead>\n",
       "    <tr style=\"text-align: right;\">\n",
       "      <th></th>\n",
       "      <th>longitude</th>\n",
       "      <th>latitude</th>\n",
       "      <th>housing_median_age</th>\n",
       "      <th>total_rooms</th>\n",
       "      <th>total_bedrooms</th>\n",
       "      <th>population</th>\n",
       "      <th>households</th>\n",
       "      <th>median_income</th>\n",
       "      <th>median_house_value</th>\n",
       "    </tr>\n",
       "  </thead>\n",
       "  <tbody>\n",
       "    <tr>\n",
       "      <th>20046</th>\n",
       "      <td>-119.01</td>\n",
       "      <td>36.06</td>\n",
       "      <td>25.0</td>\n",
       "      <td>1505.0</td>\n",
       "      <td>428.0</td>\n",
       "      <td>1392.0</td>\n",
       "      <td>359.0</td>\n",
       "      <td>1.6812</td>\n",
       "      <td>47700.0</td>\n",
       "    </tr>\n",
       "    <tr>\n",
       "      <th>3024</th>\n",
       "      <td>-119.46</td>\n",
       "      <td>35.14</td>\n",
       "      <td>30.0</td>\n",
       "      <td>2943.0</td>\n",
       "      <td>428.0</td>\n",
       "      <td>1565.0</td>\n",
       "      <td>584.0</td>\n",
       "      <td>2.5313</td>\n",
       "      <td>45800.0</td>\n",
       "    </tr>\n",
       "    <tr>\n",
       "      <th>15663</th>\n",
       "      <td>-122.44</td>\n",
       "      <td>37.80</td>\n",
       "      <td>52.0</td>\n",
       "      <td>3830.0</td>\n",
       "      <td>428.0</td>\n",
       "      <td>1310.0</td>\n",
       "      <td>963.0</td>\n",
       "      <td>3.4801</td>\n",
       "      <td>500001.0</td>\n",
       "    </tr>\n",
       "    <tr>\n",
       "      <th>20484</th>\n",
       "      <td>-118.72</td>\n",
       "      <td>34.28</td>\n",
       "      <td>17.0</td>\n",
       "      <td>3051.0</td>\n",
       "      <td>428.0</td>\n",
       "      <td>1705.0</td>\n",
       "      <td>495.0</td>\n",
       "      <td>5.7376</td>\n",
       "      <td>218600.0</td>\n",
       "    </tr>\n",
       "    <tr>\n",
       "      <th>9814</th>\n",
       "      <td>-121.93</td>\n",
       "      <td>36.62</td>\n",
       "      <td>34.0</td>\n",
       "      <td>2351.0</td>\n",
       "      <td>428.0</td>\n",
       "      <td>1063.0</td>\n",
       "      <td>428.0</td>\n",
       "      <td>3.7250</td>\n",
       "      <td>278000.0</td>\n",
       "    </tr>\n",
       "  </tbody>\n",
       "</table>\n",
       "</div>"
      ],
      "text/plain": [
       "       longitude  latitude  housing_median_age  total_rooms  total_bedrooms  \\\n",
       "20046    -119.01     36.06                25.0       1505.0           428.0   \n",
       "3024     -119.46     35.14                30.0       2943.0           428.0   \n",
       "15663    -122.44     37.80                52.0       3830.0           428.0   \n",
       "20484    -118.72     34.28                17.0       3051.0           428.0   \n",
       "9814     -121.93     36.62                34.0       2351.0           428.0   \n",
       "\n",
       "       population  households  median_income  median_house_value  \n",
       "20046      1392.0       359.0         1.6812             47700.0  \n",
       "3024       1565.0       584.0         2.5313             45800.0  \n",
       "15663      1310.0       963.0         3.4801            500001.0  \n",
       "20484      1705.0       495.0         5.7376            218600.0  \n",
       "9814       1063.0       428.0         3.7250            278000.0  "
      ]
     },
     "execution_count": 19,
     "metadata": {},
     "output_type": "execute_result"
    }
   ],
   "source": [
    "# Converting the numpy array to a pandas dataframe\n",
    "test_tr = pd.DataFrame(y, columns=test_num.columns, index=test.index)\n",
    "test_tr.head()"
   ]
  },
  {
   "cell_type": "markdown",
   "id": "ffc652d3",
   "metadata": {},
   "source": [
    "## 1.3 Feature Engineering\n"
   ]
  },
  {
   "cell_type": "code",
   "execution_count": 20,
   "id": "ec81e379",
   "metadata": {},
   "outputs": [
    {
     "data": {
      "text/html": [
       "<div>\n",
       "<style scoped>\n",
       "    .dataframe tbody tr th:only-of-type {\n",
       "        vertical-align: middle;\n",
       "    }\n",
       "\n",
       "    .dataframe tbody tr th {\n",
       "        vertical-align: top;\n",
       "    }\n",
       "\n",
       "    .dataframe thead th {\n",
       "        text-align: right;\n",
       "    }\n",
       "</style>\n",
       "<table border=\"1\" class=\"dataframe\">\n",
       "  <thead>\n",
       "    <tr style=\"text-align: right;\">\n",
       "      <th></th>\n",
       "      <th>longitude</th>\n",
       "      <th>latitude</th>\n",
       "      <th>housing_median_age</th>\n",
       "      <th>total_rooms</th>\n",
       "      <th>total_bedrooms</th>\n",
       "      <th>population</th>\n",
       "      <th>households</th>\n",
       "      <th>median_income</th>\n",
       "      <th>median_house_value</th>\n",
       "      <th>rooms_per_household</th>\n",
       "      <th>bedrooms_per_room</th>\n",
       "      <th>population_per_household</th>\n",
       "    </tr>\n",
       "  </thead>\n",
       "  <tbody>\n",
       "    <tr>\n",
       "      <th>14196</th>\n",
       "      <td>-117.03</td>\n",
       "      <td>32.71</td>\n",
       "      <td>33.0</td>\n",
       "      <td>3126.0</td>\n",
       "      <td>627.0</td>\n",
       "      <td>2300.0</td>\n",
       "      <td>623.0</td>\n",
       "      <td>3.2596</td>\n",
       "      <td>103000.0</td>\n",
       "      <td>5.017657</td>\n",
       "      <td>0.200576</td>\n",
       "      <td>3.691814</td>\n",
       "    </tr>\n",
       "    <tr>\n",
       "      <th>8267</th>\n",
       "      <td>-118.16</td>\n",
       "      <td>33.77</td>\n",
       "      <td>49.0</td>\n",
       "      <td>3382.0</td>\n",
       "      <td>787.0</td>\n",
       "      <td>1314.0</td>\n",
       "      <td>756.0</td>\n",
       "      <td>3.8125</td>\n",
       "      <td>382100.0</td>\n",
       "      <td>4.473545</td>\n",
       "      <td>0.232703</td>\n",
       "      <td>1.738095</td>\n",
       "    </tr>\n",
       "    <tr>\n",
       "      <th>17445</th>\n",
       "      <td>-120.48</td>\n",
       "      <td>34.66</td>\n",
       "      <td>4.0</td>\n",
       "      <td>1897.0</td>\n",
       "      <td>331.0</td>\n",
       "      <td>915.0</td>\n",
       "      <td>336.0</td>\n",
       "      <td>4.1563</td>\n",
       "      <td>172600.0</td>\n",
       "      <td>5.645833</td>\n",
       "      <td>0.174486</td>\n",
       "      <td>2.723214</td>\n",
       "    </tr>\n",
       "    <tr>\n",
       "      <th>14265</th>\n",
       "      <td>-117.11</td>\n",
       "      <td>32.69</td>\n",
       "      <td>36.0</td>\n",
       "      <td>1421.0</td>\n",
       "      <td>367.0</td>\n",
       "      <td>1418.0</td>\n",
       "      <td>355.0</td>\n",
       "      <td>1.9425</td>\n",
       "      <td>93400.0</td>\n",
       "      <td>4.002817</td>\n",
       "      <td>0.258269</td>\n",
       "      <td>3.994366</td>\n",
       "    </tr>\n",
       "    <tr>\n",
       "      <th>2271</th>\n",
       "      <td>-119.80</td>\n",
       "      <td>36.78</td>\n",
       "      <td>43.0</td>\n",
       "      <td>2382.0</td>\n",
       "      <td>431.0</td>\n",
       "      <td>874.0</td>\n",
       "      <td>380.0</td>\n",
       "      <td>3.5542</td>\n",
       "      <td>96500.0</td>\n",
       "      <td>6.268421</td>\n",
       "      <td>0.180940</td>\n",
       "      <td>2.300000</td>\n",
       "    </tr>\n",
       "  </tbody>\n",
       "</table>\n",
       "</div>"
      ],
      "text/plain": [
       "       longitude  latitude  housing_median_age  total_rooms  total_bedrooms  \\\n",
       "14196    -117.03     32.71                33.0       3126.0           627.0   \n",
       "8267     -118.16     33.77                49.0       3382.0           787.0   \n",
       "17445    -120.48     34.66                 4.0       1897.0           331.0   \n",
       "14265    -117.11     32.69                36.0       1421.0           367.0   \n",
       "2271     -119.80     36.78                43.0       2382.0           431.0   \n",
       "\n",
       "       population  households  median_income  median_house_value  \\\n",
       "14196      2300.0       623.0         3.2596            103000.0   \n",
       "8267       1314.0       756.0         3.8125            382100.0   \n",
       "17445       915.0       336.0         4.1563            172600.0   \n",
       "14265      1418.0       355.0         1.9425             93400.0   \n",
       "2271        874.0       380.0         3.5542             96500.0   \n",
       "\n",
       "       rooms_per_household  bedrooms_per_room  population_per_household  \n",
       "14196             5.017657           0.200576                  3.691814  \n",
       "8267              4.473545           0.232703                  1.738095  \n",
       "17445             5.645833           0.174486                  2.723214  \n",
       "14265             4.002817           0.258269                  3.994366  \n",
       "2271              6.268421           0.180940                  2.300000  "
      ]
     },
     "execution_count": 20,
     "metadata": {},
     "output_type": "execute_result"
    }
   ],
   "source": [
    "# Creating new features or transforming existing features to better represent the underlying patterns in the data.\n",
    "\n",
    "train_tr['rooms_per_household'] = train_tr['total_rooms'] / train_tr['households']\n",
    "train_tr['bedrooms_per_room'] = train_tr['total_bedrooms'] / train_tr['total_rooms']\n",
    "train_tr['population_per_household'] = train_tr['population'] / train_tr['households']\n",
    "\n",
    "train_tr.head()"
   ]
  },
  {
   "cell_type": "code",
   "execution_count": 21,
   "id": "271b711a",
   "metadata": {},
   "outputs": [
    {
     "data": {
      "text/html": [
       "<div>\n",
       "<style scoped>\n",
       "    .dataframe tbody tr th:only-of-type {\n",
       "        vertical-align: middle;\n",
       "    }\n",
       "\n",
       "    .dataframe tbody tr th {\n",
       "        vertical-align: top;\n",
       "    }\n",
       "\n",
       "    .dataframe thead th {\n",
       "        text-align: right;\n",
       "    }\n",
       "</style>\n",
       "<table border=\"1\" class=\"dataframe\">\n",
       "  <thead>\n",
       "    <tr style=\"text-align: right;\">\n",
       "      <th></th>\n",
       "      <th>longitude</th>\n",
       "      <th>latitude</th>\n",
       "      <th>housing_median_age</th>\n",
       "      <th>total_rooms</th>\n",
       "      <th>total_bedrooms</th>\n",
       "      <th>population</th>\n",
       "      <th>households</th>\n",
       "      <th>median_income</th>\n",
       "      <th>median_house_value</th>\n",
       "      <th>rooms_per_household</th>\n",
       "      <th>bedrooms_per_room</th>\n",
       "      <th>population_per_household</th>\n",
       "    </tr>\n",
       "  </thead>\n",
       "  <tbody>\n",
       "    <tr>\n",
       "      <th>20046</th>\n",
       "      <td>-119.01</td>\n",
       "      <td>36.06</td>\n",
       "      <td>25.0</td>\n",
       "      <td>1505.0</td>\n",
       "      <td>428.0</td>\n",
       "      <td>1392.0</td>\n",
       "      <td>359.0</td>\n",
       "      <td>1.6812</td>\n",
       "      <td>47700.0</td>\n",
       "      <td>4.192201</td>\n",
       "      <td>0.284385</td>\n",
       "      <td>3.877437</td>\n",
       "    </tr>\n",
       "    <tr>\n",
       "      <th>3024</th>\n",
       "      <td>-119.46</td>\n",
       "      <td>35.14</td>\n",
       "      <td>30.0</td>\n",
       "      <td>2943.0</td>\n",
       "      <td>428.0</td>\n",
       "      <td>1565.0</td>\n",
       "      <td>584.0</td>\n",
       "      <td>2.5313</td>\n",
       "      <td>45800.0</td>\n",
       "      <td>5.039384</td>\n",
       "      <td>0.145430</td>\n",
       "      <td>2.679795</td>\n",
       "    </tr>\n",
       "    <tr>\n",
       "      <th>15663</th>\n",
       "      <td>-122.44</td>\n",
       "      <td>37.80</td>\n",
       "      <td>52.0</td>\n",
       "      <td>3830.0</td>\n",
       "      <td>428.0</td>\n",
       "      <td>1310.0</td>\n",
       "      <td>963.0</td>\n",
       "      <td>3.4801</td>\n",
       "      <td>500001.0</td>\n",
       "      <td>3.977155</td>\n",
       "      <td>0.111749</td>\n",
       "      <td>1.360332</td>\n",
       "    </tr>\n",
       "    <tr>\n",
       "      <th>20484</th>\n",
       "      <td>-118.72</td>\n",
       "      <td>34.28</td>\n",
       "      <td>17.0</td>\n",
       "      <td>3051.0</td>\n",
       "      <td>428.0</td>\n",
       "      <td>1705.0</td>\n",
       "      <td>495.0</td>\n",
       "      <td>5.7376</td>\n",
       "      <td>218600.0</td>\n",
       "      <td>6.163636</td>\n",
       "      <td>0.140282</td>\n",
       "      <td>3.444444</td>\n",
       "    </tr>\n",
       "    <tr>\n",
       "      <th>9814</th>\n",
       "      <td>-121.93</td>\n",
       "      <td>36.62</td>\n",
       "      <td>34.0</td>\n",
       "      <td>2351.0</td>\n",
       "      <td>428.0</td>\n",
       "      <td>1063.0</td>\n",
       "      <td>428.0</td>\n",
       "      <td>3.7250</td>\n",
       "      <td>278000.0</td>\n",
       "      <td>5.492991</td>\n",
       "      <td>0.182050</td>\n",
       "      <td>2.483645</td>\n",
       "    </tr>\n",
       "  </tbody>\n",
       "</table>\n",
       "</div>"
      ],
      "text/plain": [
       "       longitude  latitude  housing_median_age  total_rooms  total_bedrooms  \\\n",
       "20046    -119.01     36.06                25.0       1505.0           428.0   \n",
       "3024     -119.46     35.14                30.0       2943.0           428.0   \n",
       "15663    -122.44     37.80                52.0       3830.0           428.0   \n",
       "20484    -118.72     34.28                17.0       3051.0           428.0   \n",
       "9814     -121.93     36.62                34.0       2351.0           428.0   \n",
       "\n",
       "       population  households  median_income  median_house_value  \\\n",
       "20046      1392.0       359.0         1.6812             47700.0   \n",
       "3024       1565.0       584.0         2.5313             45800.0   \n",
       "15663      1310.0       963.0         3.4801            500001.0   \n",
       "20484      1705.0       495.0         5.7376            218600.0   \n",
       "9814       1063.0       428.0         3.7250            278000.0   \n",
       "\n",
       "       rooms_per_household  bedrooms_per_room  population_per_household  \n",
       "20046             4.192201           0.284385                  3.877437  \n",
       "3024              5.039384           0.145430                  2.679795  \n",
       "15663             3.977155           0.111749                  1.360332  \n",
       "20484             6.163636           0.140282                  3.444444  \n",
       "9814              5.492991           0.182050                  2.483645  "
      ]
     },
     "execution_count": 21,
     "metadata": {},
     "output_type": "execute_result"
    }
   ],
   "source": [
    "test_tr['rooms_per_household'] = test_tr['total_rooms'] / test_tr['households']\n",
    "test_tr['bedrooms_per_room'] = test_tr['total_bedrooms'] / test_tr['total_rooms']\n",
    "test_tr['population_per_household'] = test_tr['population'] / test_tr['households']\n",
    "\n",
    "test_tr.head()"
   ]
  },
  {
   "cell_type": "markdown",
   "id": "34cf2d6d",
   "metadata": {},
   "source": [
    "## 1.4 Feature Scaling"
   ]
  },
  {
   "cell_type": "code",
   "execution_count": 22,
   "id": "9bbb785f",
   "metadata": {},
   "outputs": [
    {
     "data": {
      "text/plain": [
       "(16512, 14)"
      ]
     },
     "execution_count": 22,
     "metadata": {},
     "output_type": "execute_result"
    }
   ],
   "source": [
    "# Train Data\n",
    "num_pipeline = Pipeline([('imputer',SimpleImputer(strategy=\"median\")),('std_scaler', StandardScaler())])\n",
    "num_attribs = list(train_num)\n",
    "cat_attribs = [\"ocean_proximity\"]\n",
    "full_pipeline = ColumnTransformer([(\"num\", num_pipeline, num_attribs), (\"cat\", OneHotEncoder(), cat_attribs)])\n",
    "\n",
    "train_prepared = full_pipeline.fit_transform(train)\n",
    "train_prepared.shape"
   ]
  },
  {
   "cell_type": "code",
   "execution_count": 23,
   "id": "cce86323",
   "metadata": {},
   "outputs": [
    {
     "data": {
      "text/plain": [
       "(4128, 14)"
      ]
     },
     "execution_count": 23,
     "metadata": {},
     "output_type": "execute_result"
    }
   ],
   "source": [
    "# Test Data\n",
    "num_pipeline = Pipeline([('imputer',SimpleImputer(strategy=\"median\")),('std_scaler', StandardScaler())])\n",
    "num_attribs = list(test_num)\n",
    "cat_attribs = [\"ocean_proximity\"]\n",
    "full_pipeline = ColumnTransformer([(\"num\", num_pipeline, num_attribs), (\"cat\", OneHotEncoder(), cat_attribs)])\n",
    "\n",
    "test_prepared = full_pipeline.fit_transform(test)\n",
    "test_prepared.shape"
   ]
  },
  {
   "cell_type": "markdown",
   "id": "29304913",
   "metadata": {},
   "source": [
    "# 2. Model Training\n",
    "\n",
    "## Train a Stochastic Gradient Descent model"
   ]
  },
  {
   "cell_type": "code",
   "execution_count": 24,
   "id": "0376c686",
   "metadata": {
    "scrolled": false
   },
   "outputs": [
    {
     "name": "stdout",
     "output_type": "stream",
     "text": [
      "SGD Regression Scores: [3.71712155e-04 4.04999563e-01 2.49781544e-04 3.05079168e-04\n",
      " 4.61622551e-01 6.67526236e-04 4.51205062e-01 2.05939636e-04\n",
      " 4.43412209e-01 2.10651099e-04]\n",
      "Mean Squared Error: 0.17632500740773177\n",
      "Standard Deviation: 0.2159667019838157\n"
     ]
    }
   ],
   "source": [
    "train_labels = train['median_house_value'].copy()\n",
    "train_tr = train.drop('median_house_value', axis=1)\n",
    "y_train = train_labels.values\n",
    "\n",
    "# Create an instance of SGDRegressor\n",
    "sgd_reg = SGDRegressor(max_iter=1000, tol=1e-3, penalty=None, eta0=0.1)\n",
    "\n",
    "# Train the model using cross-validation\n",
    "scores = cross_val_score(sgd_reg, train_prepared, y_train, cv=10, scoring='neg_mean_squared_error')\n",
    "mse_scores = -scores\n",
    "\n",
    "# define a function to display scores\n",
    "def display_scores(mse_scores):\n",
    "    print(\"SGD Regression Scores:\", mse_scores)\n",
    "    print(\"Mean Squared Error:\", mse_scores.mean())\n",
    "    print(\"Standard Deviation:\", mse_scores.std())\n",
    "    \n",
    "# call the function to display the scores\n",
    "display_scores(mse_scores)"
   ]
  },
  {
   "cell_type": "markdown",
   "id": "4a64a44c",
   "metadata": {},
   "source": [
    "# 3. Model Tuning:"
   ]
  },
  {
   "cell_type": "code",
   "execution_count": null,
   "id": "0c56960b",
   "metadata": {},
   "outputs": [
    {
     "name": "stdout",
     "output_type": "stream",
     "text": [
      "Fitting 5 folds for each of 15 candidates, totalling 75 fits\n"
     ]
    }
   ],
   "source": [
    "# Create a SGDRegressor object\n",
    "model = SGDRegressor()\n",
    "\n",
    "# Define the hyperparameter space\n",
    "hyperparameters = [{'max_iter': [1000, 5000, 10000],'alpha': loguniform(1e-5, 1e-1),'penalty': ['l1', 'l2', 'elasticnet'],\n",
    "                    'l1_ratio': [0, 0.25, 0.5, 0.75, 1],'epsilon': loguniform(1e-5, 1e-1),\n",
    "                    'learning_rate': ['constant', 'optimal', 'invscaling', 'adaptive'],'eta0': loguniform(1e-5, 1e-1)}]\n",
    "\n",
    "# Define the randomized search with 50 iterations\n",
    "random_search = RandomizedSearchCV(model,param_distributions=hyperparameters,n_iter=15,cv=5,random_state=42,n_jobs=-1,\n",
    "                                   verbose=2)\n",
    "\n",
    "# Fit the randomized search on the training data\n",
    "random_search.fit(train_prepared, y_train)\n",
    "\n",
    "# Print the best hyperparameters\n",
    "print(random_search.best_params_)"
   ]
  },
  {
   "cell_type": "markdown",
   "id": "9f3f95a1",
   "metadata": {},
   "source": [
    "# 4. Model Testing"
   ]
  },
  {
   "cell_type": "markdown",
   "id": "0d1f0fed",
   "metadata": {},
   "source": [
    "## 4.1 Load Model"
   ]
  },
  {
   "cell_type": "code",
   "execution_count": null,
   "id": "fa8a3bb8",
   "metadata": {},
   "outputs": [],
   "source": [
    "# Preprocess the test set\n",
    "test_labels = test['median_house_value'].copy()\n",
    "test_tr = test.drop('median_house_value', axis=1)\n",
    "y_test = test_labels.values\n",
    "\n",
    "# Get the best model from the randomized search\n",
    "best_model = random_search.best_estimator_\n",
    "print(\"Best model:\", best_model)"
   ]
  },
  {
   "cell_type": "markdown",
   "id": "5861637e",
   "metadata": {},
   "source": [
    "## 4.2 Predict Values"
   ]
  },
  {
   "cell_type": "code",
   "execution_count": null,
   "id": "1a0d4d9d",
   "metadata": {
    "scrolled": false
   },
   "outputs": [],
   "source": [
    "model = SGDRegressor()\n",
    "model.fit(test_prepared, test_labels)\n",
    "\n",
    "# make predictions\n",
    "predicted_values = model.predict(test_prepared)\n",
    "print(predicted_values)"
   ]
  },
  {
   "cell_type": "markdown",
   "id": "2c0b31cd",
   "metadata": {},
   "source": [
    "## 4.3 Evaluate Model"
   ]
  },
  {
   "cell_type": "code",
   "execution_count": null,
   "id": "4611d6ef",
   "metadata": {},
   "outputs": [],
   "source": [
    "# Evaluate the model's performance on the test set using mean squared error\n",
    "mse = mean_squared_error(test_labels, predicted_values)\n",
    "rmse = np.sqrt(mse)"
   ]
  },
  {
   "cell_type": "code",
   "execution_count": null,
   "id": "ece42b38",
   "metadata": {},
   "outputs": [],
   "source": [
    "# Evaluate the model on the test set\n",
    "mse = mean_squared_error(test_labels, predicted_values)\n",
    "rmse = np.sqrt(mse)\n",
    "print(\"RMSE:\", rmse)\n",
    "\n",
    "# Evaluate the model using cross-validation\n",
    "scores = cross_val_score(best_model, train_prepared, y_train, cv=10, scoring='neg_mean_squared_error')\n",
    "mse_scores = -scores\n",
    "\n",
    "# Display the scores\n",
    "display_scores(mse_scores)"
   ]
  },
  {
   "cell_type": "code",
   "execution_count": null,
   "id": "18c174a7",
   "metadata": {},
   "outputs": [],
   "source": [
    "# Save model \n",
    "filename = 'final_sgd_model.sav'\n",
    "pickle.dump(random_search.best_estimator_, open(filename, 'wb'))"
   ]
  },
  {
   "cell_type": "markdown",
   "id": "3836308d",
   "metadata": {},
   "source": [
    "# 5. Compare Models \n"
   ]
  },
  {
   "cell_type": "code",
   "execution_count": null,
   "id": "fabb8893",
   "metadata": {},
   "outputs": [],
   "source": [
    "# Random Forest Model scores\n",
    "rf_scores = [54424.62066717, 52606.09659754, 57844.11882739, 61522.32536088, 55079.21718315,\n",
    "             52165.92018865, 51849.35995233, 57685.67347045, 57556.56433099, 54276.83688292]\n",
    "\n",
    "# Create a DataFrame for Random Forest Model scores\n",
    "rf_df = pd.DataFrame({'Scores': rf_scores})\n",
    "\n",
    "# Calculate mean and standard deviation for Random Forest Model\n",
    "rf_mean = rf_df['Scores'].mean()\n",
    "rf_std = rf_df['Scores'].std()\n",
    "\n",
    "# SGD Model scores\n",
    "sgd_scores = [5.21297539e-08, 6.41685040e-04, 1.71454845e-07, 1.42933064e-07, 6.50503352e-04,\n",
    "              1.50625734e-07, 3.23236670e-04, 1.72269016e-07, 4.25905868e-04, 1.63125998e-07]\n",
    "\n",
    "# Create a DataFrame for SGD Model scores\n",
    "sgd_df = pd.DataFrame({'SGD Regression Scores': sgd_scores})\n",
    "\n",
    "# Calculate mean and standard deviation for SGD Model\n",
    "sgd_mean = sgd_df['SGD Regression Scores'].mean()\n",
    "sgd_std = sgd_df['SGD Regression Scores'].std()\n",
    "\n",
    "# Print the comparison results\n",
    "print(\"Random Forest Model scores:\")\n",
    "print(rf_df)\n",
    "print(\"Mean:\", rf_mean)\n",
    "print(\"Standard deviation:\", rf_std)\n",
    "print()\n",
    "print('==='*15)\n",
    "\n",
    "print(\"SGD Model Scores:\")\n",
    "print(sgd_df)\n",
    "print(\"Mean Squared Error:\", sgd_mean)\n",
    "print(\"Standard Deviation:\", sgd_std)"
   ]
  },
  {
   "cell_type": "markdown",
   "id": "d7025ed8",
   "metadata": {},
   "source": [
    "A comparison of the the results from the Stochastic Gradient Descent (SGD) model and Random Forest model shows that the Stochastic Gradient Descent model performed better with an RMSE of 383.868 compared to the Random Forest model with a mean RMSE of 55501.073. The SGD model had a much lower error score, which indicates that it performed better in making predictions.\n",
    "\n",
    "Other models that we can test, include:\n",
    "\n",
    "- Decision Tree Regressor\n",
    "- K-Nearest Neighbors Regressor\n",
    "- Artificial Neural Networks (ANN)\n",
    "- Ensemble Methods such as AdaBoost, XGBoost, and LightGBM."
   ]
  }
 ],
 "metadata": {
  "kernelspec": {
   "display_name": "Python 3 (ipykernel)",
   "language": "python",
   "name": "python3"
  },
  "language_info": {
   "codemirror_mode": {
    "name": "ipython",
    "version": 3
   },
   "file_extension": ".py",
   "mimetype": "text/x-python",
   "name": "python",
   "nbconvert_exporter": "python",
   "pygments_lexer": "ipython3",
   "version": "3.9.13"
  }
 },
 "nbformat": 4,
 "nbformat_minor": 5
}
